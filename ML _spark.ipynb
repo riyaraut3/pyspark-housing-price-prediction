{
  "nbformat": 4,
  "nbformat_minor": 0,
  "metadata": {
    "colab": {
      "provenance": []
    },
    "kernelspec": {
      "name": "python3",
      "display_name": "Python 3"
    },
    "language_info": {
      "name": "python"
    }
  },
  "cells": [
    {
      "cell_type": "markdown",
      "source": [
        "Notes:\n",
        "* using the select statement to see the avg and do data exploration\n",
        "* using with column to add a column\n",
        "\n",
        "\n"
      ],
      "metadata": {
        "id": "cvPrkYQMf9Gm"
      }
    },
    {
      "cell_type": "code",
      "source": [
        "import os\n",
        "import sys\n",
        "\n",
        "os.environ['PYSPARK_PYTHON'] = sys.executable\n",
        "\n",
        "os.environ['PYSPARK_DRIVER_PYTHON'] = sys.executable"
      ],
      "metadata": {
        "id": "b6CY1Ozb_17Z"
      },
      "execution_count": 53,
      "outputs": []
    },
    {
      "cell_type": "code",
      "execution_count": 54,
      "metadata": {
        "colab": {
          "base_uri": "https://localhost:8080/"
        },
        "id": "6rl2QpaFL8eF",
        "outputId": "104978c0-5906-4eda-f789-9703300a82b5"
      },
      "outputs": [
        {
          "output_type": "stream",
          "name": "stdout",
          "text": [
            "Requirement already satisfied: pyspark in /usr/local/lib/python3.11/dist-packages (3.5.1)\n",
            "Requirement already satisfied: py4j==0.10.9.7 in /usr/local/lib/python3.11/dist-packages (from pyspark) (0.10.9.7)\n"
          ]
        }
      ],
      "source": [
        "!pip install pyspark"
      ]
    },
    {
      "cell_type": "code",
      "source": [
        "import kagglehub\n",
        "\n",
        "# Download latest version\n",
        "path = kagglehub.dataset_download(\"camnugent/california-housing-prices\")\n",
        "\n",
        "print(\"Path to dataset files:\", path)"
      ],
      "metadata": {
        "colab": {
          "base_uri": "https://localhost:8080/"
        },
        "id": "Qy1XStnROpR4",
        "outputId": "7edbc0ca-9357-4dc4-c15f-d571491978b0"
      },
      "execution_count": 55,
      "outputs": [
        {
          "output_type": "stream",
          "name": "stdout",
          "text": [
            "Path to dataset files: /kaggle/input/california-housing-prices\n"
          ]
        }
      ]
    },
    {
      "cell_type": "code",
      "source": [
        "from pyspark.sql import SparkSession\n",
        "\n",
        "# get acess to spark variable using sparksession\n",
        "spark = SparkSession.builder.master(\"local\").appName(\"Colab\").config(\"spark.ui.port\",\"4050\").getOrCreate()"
      ],
      "metadata": {
        "id": "el68LeWQNb1f"
      },
      "execution_count": 56,
      "outputs": []
    },
    {
      "cell_type": "code",
      "source": [
        "df = spark.read.csv(\"/kaggle/input/california-housing-prices\", header= True, inferSchema=True)"
      ],
      "metadata": {
        "id": "u2tCQVwWNyoY"
      },
      "execution_count": 57,
      "outputs": []
    },
    {
      "cell_type": "code",
      "source": [
        "df.printSchema()"
      ],
      "metadata": {
        "colab": {
          "base_uri": "https://localhost:8080/"
        },
        "id": "2jmmdF38O8pv",
        "outputId": "c2eb4b35-7db1-48c5-fbbf-33bad886c6c0"
      },
      "execution_count": 58,
      "outputs": [
        {
          "output_type": "stream",
          "name": "stdout",
          "text": [
            "root\n",
            " |-- longitude: double (nullable = true)\n",
            " |-- latitude: double (nullable = true)\n",
            " |-- housing_median_age: double (nullable = true)\n",
            " |-- total_rooms: double (nullable = true)\n",
            " |-- total_bedrooms: double (nullable = true)\n",
            " |-- population: double (nullable = true)\n",
            " |-- households: double (nullable = true)\n",
            " |-- median_income: double (nullable = true)\n",
            " |-- median_house_value: double (nullable = true)\n",
            " |-- ocean_proximity: string (nullable = true)\n",
            "\n"
          ]
        }
      ]
    },
    {
      "cell_type": "code",
      "source": [
        "df.show()"
      ],
      "metadata": {
        "colab": {
          "base_uri": "https://localhost:8080/"
        },
        "id": "ShAEa0FZOsdD",
        "outputId": "ae33d400-5332-49aa-ca32-613c6b28613c"
      },
      "execution_count": 59,
      "outputs": [
        {
          "output_type": "stream",
          "name": "stdout",
          "text": [
            "+---------+--------+------------------+-----------+--------------+----------+----------+-------------+------------------+---------------+\n",
            "|longitude|latitude|housing_median_age|total_rooms|total_bedrooms|population|households|median_income|median_house_value|ocean_proximity|\n",
            "+---------+--------+------------------+-----------+--------------+----------+----------+-------------+------------------+---------------+\n",
            "|  -122.23|   37.88|              41.0|      880.0|         129.0|     322.0|     126.0|       8.3252|          452600.0|       NEAR BAY|\n",
            "|  -122.22|   37.86|              21.0|     7099.0|        1106.0|    2401.0|    1138.0|       8.3014|          358500.0|       NEAR BAY|\n",
            "|  -122.24|   37.85|              52.0|     1467.0|         190.0|     496.0|     177.0|       7.2574|          352100.0|       NEAR BAY|\n",
            "|  -122.25|   37.85|              52.0|     1274.0|         235.0|     558.0|     219.0|       5.6431|          341300.0|       NEAR BAY|\n",
            "|  -122.25|   37.85|              52.0|     1627.0|         280.0|     565.0|     259.0|       3.8462|          342200.0|       NEAR BAY|\n",
            "|  -122.25|   37.85|              52.0|      919.0|         213.0|     413.0|     193.0|       4.0368|          269700.0|       NEAR BAY|\n",
            "|  -122.25|   37.84|              52.0|     2535.0|         489.0|    1094.0|     514.0|       3.6591|          299200.0|       NEAR BAY|\n",
            "|  -122.25|   37.84|              52.0|     3104.0|         687.0|    1157.0|     647.0|         3.12|          241400.0|       NEAR BAY|\n",
            "|  -122.26|   37.84|              42.0|     2555.0|         665.0|    1206.0|     595.0|       2.0804|          226700.0|       NEAR BAY|\n",
            "|  -122.25|   37.84|              52.0|     3549.0|         707.0|    1551.0|     714.0|       3.6912|          261100.0|       NEAR BAY|\n",
            "|  -122.26|   37.85|              52.0|     2202.0|         434.0|     910.0|     402.0|       3.2031|          281500.0|       NEAR BAY|\n",
            "|  -122.26|   37.85|              52.0|     3503.0|         752.0|    1504.0|     734.0|       3.2705|          241800.0|       NEAR BAY|\n",
            "|  -122.26|   37.85|              52.0|     2491.0|         474.0|    1098.0|     468.0|        3.075|          213500.0|       NEAR BAY|\n",
            "|  -122.26|   37.84|              52.0|      696.0|         191.0|     345.0|     174.0|       2.6736|          191300.0|       NEAR BAY|\n",
            "|  -122.26|   37.85|              52.0|     2643.0|         626.0|    1212.0|     620.0|       1.9167|          159200.0|       NEAR BAY|\n",
            "|  -122.26|   37.85|              50.0|     1120.0|         283.0|     697.0|     264.0|        2.125|          140000.0|       NEAR BAY|\n",
            "|  -122.27|   37.85|              52.0|     1966.0|         347.0|     793.0|     331.0|        2.775|          152500.0|       NEAR BAY|\n",
            "|  -122.27|   37.85|              52.0|     1228.0|         293.0|     648.0|     303.0|       2.1202|          155500.0|       NEAR BAY|\n",
            "|  -122.26|   37.84|              50.0|     2239.0|         455.0|     990.0|     419.0|       1.9911|          158700.0|       NEAR BAY|\n",
            "|  -122.27|   37.84|              52.0|     1503.0|         298.0|     690.0|     275.0|       2.6033|          162900.0|       NEAR BAY|\n",
            "+---------+--------+------------------+-----------+--------------+----------+----------+-------------+------------------+---------------+\n",
            "only showing top 20 rows\n",
            "\n"
          ]
        }
      ]
    },
    {
      "cell_type": "code",
      "source": [
        "from pyspark.sql.functions import *\n",
        "from pyspark.sql.types import *"
      ],
      "metadata": {
        "id": "3qcfxqwpOvMZ"
      },
      "execution_count": 60,
      "outputs": []
    },
    {
      "cell_type": "code",
      "source": [
        "# adding a column using with column and then the first variable is the columnn name\n",
        "df = df.withColumn(\"id\", monotonically_increasing_id())\n",
        "\n",
        "# now rearrange the column\n",
        "df = df[[\"id\"]+ df.columns[:-1]] # take id columns and also all except the last one \"id\" +\"longitude\" + \"total_rooms\" or \"id\" + df.columns[:-1]"
      ],
      "metadata": {
        "id": "0aEI2mznP0BC"
      },
      "execution_count": 61,
      "outputs": []
    },
    {
      "cell_type": "code",
      "source": [
        "df.show(2)"
      ],
      "metadata": {
        "colab": {
          "base_uri": "https://localhost:8080/"
        },
        "id": "TlCkv3DvRBTK",
        "outputId": "cd870211-e851-4e90-ac6b-7b7c4eb63b93"
      },
      "execution_count": 62,
      "outputs": [
        {
          "output_type": "stream",
          "name": "stdout",
          "text": [
            "+---+---------+--------+------------------+-----------+--------------+----------+----------+-------------+------------------+---------------+\n",
            "| id|longitude|latitude|housing_median_age|total_rooms|total_bedrooms|population|households|median_income|median_house_value|ocean_proximity|\n",
            "+---+---------+--------+------------------+-----------+--------------+----------+----------+-------------+------------------+---------------+\n",
            "|  0|  -122.23|   37.88|              41.0|      880.0|         129.0|     322.0|     126.0|       8.3252|          452600.0|       NEAR BAY|\n",
            "|  1|  -122.22|   37.86|              21.0|     7099.0|        1106.0|    2401.0|    1138.0|       8.3014|          358500.0|       NEAR BAY|\n",
            "+---+---------+--------+------------------+-----------+--------------+----------+----------+-------------+------------------+---------------+\n",
            "only showing top 2 rows\n",
            "\n"
          ]
        }
      ]
    },
    {
      "cell_type": "code",
      "source": [
        "df.count()"
      ],
      "metadata": {
        "colab": {
          "base_uri": "https://localhost:8080/"
        },
        "id": "ai2OdQxaRCes",
        "outputId": "251eb515-fc24-426b-eb68-3fe1aec2ad18"
      },
      "execution_count": 63,
      "outputs": [
        {
          "output_type": "execute_result",
          "data": {
            "text/plain": [
              "20640"
            ]
          },
          "metadata": {},
          "execution_count": 63
        }
      ]
    },
    {
      "cell_type": "code",
      "source": [
        "# using the select statement to see the avg and do data exploration\n",
        "df.select(avg(\"total_rooms\").alias(\"the avg num of rooms\")).show()"
      ],
      "metadata": {
        "colab": {
          "base_uri": "https://localhost:8080/"
        },
        "id": "cBPhP5ZbR-f7",
        "outputId": "618f4e94-b94b-426e-a98a-758b49388453"
      },
      "execution_count": 64,
      "outputs": [
        {
          "output_type": "stream",
          "name": "stdout",
          "text": [
            "+--------------------+\n",
            "|the avg num of rooms|\n",
            "+--------------------+\n",
            "|  2635.7630813953488|\n",
            "+--------------------+\n",
            "\n"
          ]
        }
      ]
    },
    {
      "cell_type": "code",
      "source": [
        "df.select(avg(\"population\").alias(\"avg population\")).show()"
      ],
      "metadata": {
        "colab": {
          "base_uri": "https://localhost:8080/"
        },
        "id": "r6cRE1ZPSYfN",
        "outputId": "ceaec63c-3760-49ac-adc6-fa12e319fb5d"
      },
      "execution_count": 65,
      "outputs": [
        {
          "output_type": "stream",
          "name": "stdout",
          "text": [
            "+------------------+\n",
            "|    avg population|\n",
            "+------------------+\n",
            "|1425.4767441860465|\n",
            "+------------------+\n",
            "\n"
          ]
        }
      ]
    },
    {
      "cell_type": "code",
      "source": [
        "df.select(median(\"households\").alias(\"mediean households\")).show()"
      ],
      "metadata": {
        "colab": {
          "base_uri": "https://localhost:8080/"
        },
        "id": "H-isT9sYS2Tz",
        "outputId": "ed4cbd75-deee-4561-da25-9a9043b14964"
      },
      "execution_count": 66,
      "outputs": [
        {
          "output_type": "stream",
          "name": "stdout",
          "text": [
            "+------------------+\n",
            "|mediean households|\n",
            "+------------------+\n",
            "|             409.0|\n",
            "+------------------+\n",
            "\n"
          ]
        }
      ]
    },
    {
      "cell_type": "code",
      "source": [
        "df.groupBy(\"ocean_proximity\").count().show()"
      ],
      "metadata": {
        "colab": {
          "base_uri": "https://localhost:8080/"
        },
        "id": "lHSiLzmSS9Zd",
        "outputId": "0a0eab47-1d68-4a5d-b74a-e3792205b410"
      },
      "execution_count": 67,
      "outputs": [
        {
          "output_type": "stream",
          "name": "stdout",
          "text": [
            "+---------------+-----+\n",
            "|ocean_proximity|count|\n",
            "+---------------+-----+\n",
            "|         ISLAND|    5|\n",
            "|     NEAR OCEAN| 2658|\n",
            "|       NEAR BAY| 2290|\n",
            "|      <1H OCEAN| 9136|\n",
            "|         INLAND| 6551|\n",
            "+---------------+-----+\n",
            "\n"
          ]
        }
      ]
    },
    {
      "cell_type": "code",
      "source": [
        "df.groupBy(\"ocean_proximity\").avg(\"median_income\").show()"
      ],
      "metadata": {
        "colab": {
          "base_uri": "https://localhost:8080/"
        },
        "id": "TWO0bqGWTiuX",
        "outputId": "0e5020b9-75be-4f91-982a-15f2af09381c"
      },
      "execution_count": 68,
      "outputs": [
        {
          "output_type": "stream",
          "name": "stdout",
          "text": [
            "+---------------+------------------+\n",
            "|ocean_proximity|avg(median_income)|\n",
            "+---------------+------------------+\n",
            "|         ISLAND|2.7444200000000003|\n",
            "|     NEAR OCEAN| 4.005784800601957|\n",
            "|       NEAR BAY| 4.172884759825336|\n",
            "|      <1H OCEAN|4.2306819176882655|\n",
            "|         INLAND| 3.208996382231716|\n",
            "+---------------+------------------+\n",
            "\n"
          ]
        }
      ]
    },
    {
      "cell_type": "markdown",
      "source": [
        " # UDF user defined function in pysprk"
      ],
      "metadata": {
        "id": "z3bX7kJte76x"
      }
    },
    {
      "cell_type": "code",
      "source": [
        "def squared(x):\n",
        "  return x*x\n",
        "\n",
        "squared_udf = udf(squared, FloatType())"
      ],
      "metadata": {
        "id": "GbIlICg1e3XM"
      },
      "execution_count": 69,
      "outputs": []
    },
    {
      "cell_type": "code",
      "source": [
        "df.withColumn(\"squared_salary\", squared_udf(\"median_income\")).show()"
      ],
      "metadata": {
        "colab": {
          "base_uri": "https://localhost:8080/"
        },
        "id": "r1b1E5pgfQFN",
        "outputId": "52affd7d-759a-47f4-ef33-f02a4bf30255"
      },
      "execution_count": 70,
      "outputs": [
        {
          "output_type": "stream",
          "name": "stdout",
          "text": [
            "+---+---------+--------+------------------+-----------+--------------+----------+----------+-------------+------------------+---------------+--------------+\n",
            "| id|longitude|latitude|housing_median_age|total_rooms|total_bedrooms|population|households|median_income|median_house_value|ocean_proximity|squared_salary|\n",
            "+---+---------+--------+------------------+-----------+--------------+----------+----------+-------------+------------------+---------------+--------------+\n",
            "|  0|  -122.23|   37.88|              41.0|      880.0|         129.0|     322.0|     126.0|       8.3252|          452600.0|       NEAR BAY|      69.30895|\n",
            "|  1|  -122.22|   37.86|              21.0|     7099.0|        1106.0|    2401.0|    1138.0|       8.3014|          358500.0|       NEAR BAY|      68.91324|\n",
            "|  2|  -122.24|   37.85|              52.0|     1467.0|         190.0|     496.0|     177.0|       7.2574|          352100.0|       NEAR BAY|     52.669853|\n",
            "|  3|  -122.25|   37.85|              52.0|     1274.0|         235.0|     558.0|     219.0|       5.6431|          341300.0|       NEAR BAY|     31.844578|\n",
            "|  4|  -122.25|   37.85|              52.0|     1627.0|         280.0|     565.0|     259.0|       3.8462|          342200.0|       NEAR BAY|     14.793255|\n",
            "|  5|  -122.25|   37.85|              52.0|      919.0|         213.0|     413.0|     193.0|       4.0368|          269700.0|       NEAR BAY|     16.295753|\n",
            "|  6|  -122.25|   37.84|              52.0|     2535.0|         489.0|    1094.0|     514.0|       3.6591|          299200.0|       NEAR BAY|     13.389012|\n",
            "|  7|  -122.25|   37.84|              52.0|     3104.0|         687.0|    1157.0|     647.0|         3.12|          241400.0|       NEAR BAY|        9.7344|\n",
            "|  8|  -122.26|   37.84|              42.0|     2555.0|         665.0|    1206.0|     595.0|       2.0804|          226700.0|       NEAR BAY|      4.328064|\n",
            "|  9|  -122.25|   37.84|              52.0|     3549.0|         707.0|    1551.0|     714.0|       3.6912|          261100.0|       NEAR BAY|     13.624957|\n",
            "| 10|  -122.26|   37.85|              52.0|     2202.0|         434.0|     910.0|     402.0|       3.2031|          281500.0|       NEAR BAY|      10.25985|\n",
            "| 11|  -122.26|   37.85|              52.0|     3503.0|         752.0|    1504.0|     734.0|       3.2705|          241800.0|       NEAR BAY|      10.69617|\n",
            "| 12|  -122.26|   37.85|              52.0|     2491.0|         474.0|    1098.0|     468.0|        3.075|          213500.0|       NEAR BAY|      9.455625|\n",
            "| 13|  -122.26|   37.84|              52.0|      696.0|         191.0|     345.0|     174.0|       2.6736|          191300.0|       NEAR BAY|      7.148137|\n",
            "| 14|  -122.26|   37.85|              52.0|     2643.0|         626.0|    1212.0|     620.0|       1.9167|          159200.0|       NEAR BAY|      3.673739|\n",
            "| 15|  -122.26|   37.85|              50.0|     1120.0|         283.0|     697.0|     264.0|        2.125|          140000.0|       NEAR BAY|      4.515625|\n",
            "| 16|  -122.27|   37.85|              52.0|     1966.0|         347.0|     793.0|     331.0|        2.775|          152500.0|       NEAR BAY|      7.700625|\n",
            "| 17|  -122.27|   37.85|              52.0|     1228.0|         293.0|     648.0|     303.0|       2.1202|          155500.0|       NEAR BAY|      4.495248|\n",
            "| 18|  -122.26|   37.84|              50.0|     2239.0|         455.0|     990.0|     419.0|       1.9911|          158700.0|       NEAR BAY|     3.9644792|\n",
            "| 19|  -122.27|   37.84|              52.0|     1503.0|         298.0|     690.0|     275.0|       2.6033|          162900.0|       NEAR BAY|     6.7771707|\n",
            "+---+---------+--------+------------------+-----------+--------------+----------+----------+-------------+------------------+---------------+--------------+\n",
            "only showing top 20 rows\n",
            "\n"
          ]
        }
      ]
    },
    {
      "cell_type": "markdown",
      "source": [
        "# ML Lib"
      ],
      "metadata": {
        "id": "GQ2hYrhlhaeW"
      }
    },
    {
      "cell_type": "code",
      "source": [
        "# Step 1 : divide the dataset into train and test"
      ],
      "metadata": {
        "id": "_KK9ToLjforI"
      },
      "execution_count": 71,
      "outputs": []
    },
    {
      "cell_type": "code",
      "source": [
        "train, test = df.randomSplit([0.7,0.3],3)"
      ],
      "metadata": {
        "id": "4yVDPtHEhiQ4"
      },
      "execution_count": 72,
      "outputs": []
    },
    {
      "cell_type": "code",
      "source": [
        "train.dropDuplicates()"
      ],
      "metadata": {
        "colab": {
          "base_uri": "https://localhost:8080/"
        },
        "id": "uaGGCDXwm06H",
        "outputId": "c7456a4e-812a-4bc0-e951-f9a4a9ebfe66"
      },
      "execution_count": 73,
      "outputs": [
        {
          "output_type": "execute_result",
          "data": {
            "text/plain": [
              "DataFrame[id: bigint, longitude: double, latitude: double, housing_median_age: double, total_rooms: double, total_bedrooms: double, population: double, households: double, median_income: double, median_house_value: double, ocean_proximity: string]"
            ]
          },
          "metadata": {},
          "execution_count": 73
        }
      ]
    },
    {
      "cell_type": "code",
      "source": [
        "# Categorical Features: ocean_proximity , Numberical/Continious Features: Rest of Number cols"
      ],
      "metadata": {
        "id": "hiL6hUUOhxzt"
      },
      "execution_count": 74,
      "outputs": []
    },
    {
      "cell_type": "code",
      "source": [
        "# Step 2: Deal with Continious variables"
      ],
      "metadata": {
        "id": "lKdLgUDAiMrE"
      },
      "execution_count": 75,
      "outputs": []
    },
    {
      "cell_type": "code",
      "source": [
        "print(train.columns)"
      ],
      "metadata": {
        "colab": {
          "base_uri": "https://localhost:8080/"
        },
        "id": "VxGzMDnqkLkh",
        "outputId": "6da76dc7-f7ed-4ef0-eca4-71ef963ad71c"
      },
      "execution_count": 76,
      "outputs": [
        {
          "output_type": "stream",
          "name": "stdout",
          "text": [
            "['id', 'longitude', 'latitude', 'housing_median_age', 'total_rooms', 'total_bedrooms', 'population', 'households', 'median_income', 'median_house_value', 'ocean_proximity']\n"
          ]
        }
      ]
    },
    {
      "cell_type": "code",
      "source": [
        "numerical_features = train.columns.copy()  # make a copy just in case\n",
        "\n",
        "numerical_features.remove(\"id\")\n",
        "numerical_features.remove(\"median_house_value\")\n",
        "numerical_features.remove(\"ocean_proximity\")\n"
      ],
      "metadata": {
        "id": "aUJBJZgyiZea"
      },
      "execution_count": 77,
      "outputs": []
    },
    {
      "cell_type": "code",
      "source": [
        "numerical_features"
      ],
      "metadata": {
        "colab": {
          "base_uri": "https://localhost:8080/"
        },
        "id": "LK6ks1bekWw8",
        "outputId": "238add3e-ba92-4bab-b172-7fff677e9e4d"
      },
      "execution_count": 78,
      "outputs": [
        {
          "output_type": "execute_result",
          "data": {
            "text/plain": [
              "['longitude',\n",
              " 'latitude',\n",
              " 'housing_median_age',\n",
              " 'total_rooms',\n",
              " 'total_bedrooms',\n",
              " 'population',\n",
              " 'households',\n",
              " 'median_income']"
            ]
          },
          "metadata": {},
          "execution_count": 78
        }
      ]
    },
    {
      "cell_type": "markdown",
      "source": [
        "# Imputer in spark"
      ],
      "metadata": {
        "id": "FGa1NdBNlCUM"
      }
    },
    {
      "cell_type": "code",
      "source": [
        "from pyspark.ml.feature import *"
      ],
      "metadata": {
        "id": "3DtNgb4RkoMp"
      },
      "execution_count": 79,
      "outputs": []
    },
    {
      "cell_type": "code",
      "source": [
        "imputer = Imputer(inputCols=numerical_features, outputCols= numerical_features).setStrategy(\"mean\")\n",
        "\n",
        "# Fit the imputer on the training data (learn the means) # .fit(train) will compute: mean_total_rooms = (100 + 200 + 300) / 3 = 200.0\n",
        "imputer = imputer.fit(train)\n",
        "\n",
        "# Apply the learned imputer model to training data: replaces the None in total_rooms with 200.0.\n",
        "\n",
        "train = imputer.transform(train)\n",
        "test =imputer.transform(test)"
      ],
      "metadata": {
        "id": "MeVKwECAlIup"
      },
      "execution_count": 80,
      "outputs": []
    },
    {
      "cell_type": "code",
      "source": [
        "from pyspark.ml.feature import VectorAssembler"
      ],
      "metadata": {
        "id": "iwnjCmUbncZw"
      },
      "execution_count": 81,
      "outputs": []
    },
    {
      "cell_type": "code",
      "source": [
        "train = train.drop(\"numerical_feature_vector\")\n",
        "test = test.drop(\"numerical_feature_vector\")"
      ],
      "metadata": {
        "id": "cYfq860UE4Xs"
      },
      "execution_count": 82,
      "outputs": []
    },
    {
      "cell_type": "code",
      "source": [
        "numerical_vector_assembler = VectorAssembler(inputCols=numerical_features,\n",
        "                                             outputCol=\"numerical_feature_vector\")\n",
        "\n",
        "train = numerical_vector_assembler.transform(train)\n",
        "test = numerical_vector_assembler.transform(test)"
      ],
      "metadata": {
        "id": "Cz28f1dv1bKK"
      },
      "execution_count": 83,
      "outputs": []
    },
    {
      "cell_type": "code",
      "source": [
        "train.show()"
      ],
      "metadata": {
        "colab": {
          "base_uri": "https://localhost:8080/"
        },
        "id": "RSp2LHzJ7Yks",
        "outputId": "79e63b52-768c-4410-9378-3efb874f708e"
      },
      "execution_count": 84,
      "outputs": [
        {
          "output_type": "stream",
          "name": "stdout",
          "text": [
            "+---+---------+--------+------------------+-----------+--------------+----------+----------+-------------+------------------+---------------+------------------------+\n",
            "| id|longitude|latitude|housing_median_age|total_rooms|total_bedrooms|population|households|median_income|median_house_value|ocean_proximity|numerical_feature_vector|\n",
            "+---+---------+--------+------------------+-----------+--------------+----------+----------+-------------+------------------+---------------+------------------------+\n",
            "|  0|  -122.23|   37.88|              41.0|      880.0|         129.0|     322.0|     126.0|       8.3252|          452600.0|       NEAR BAY|    [-122.23,37.88,41...|\n",
            "|  1|  -122.22|   37.86|              21.0|     7099.0|        1106.0|    2401.0|    1138.0|       8.3014|          358500.0|       NEAR BAY|    [-122.22,37.86,21...|\n",
            "|  4|  -122.25|   37.85|              52.0|     1627.0|         280.0|     565.0|     259.0|       3.8462|          342200.0|       NEAR BAY|    [-122.25,37.85,52...|\n",
            "|  5|  -122.25|   37.85|              52.0|      919.0|         213.0|     413.0|     193.0|       4.0368|          269700.0|       NEAR BAY|    [-122.25,37.85,52...|\n",
            "|  8|  -122.26|   37.84|              42.0|     2555.0|         665.0|    1206.0|     595.0|       2.0804|          226700.0|       NEAR BAY|    [-122.26,37.84,42...|\n",
            "| 10|  -122.26|   37.85|              52.0|     2202.0|         434.0|     910.0|     402.0|       3.2031|          281500.0|       NEAR BAY|    [-122.26,37.85,52...|\n",
            "| 15|  -122.26|   37.85|              50.0|     1120.0|         283.0|     697.0|     264.0|        2.125|          140000.0|       NEAR BAY|    [-122.26,37.85,50...|\n",
            "| 16|  -122.27|   37.85|              52.0|     1966.0|         347.0|     793.0|     331.0|        2.775|          152500.0|       NEAR BAY|    [-122.27,37.85,52...|\n",
            "| 17|  -122.27|   37.85|              52.0|     1228.0|         293.0|     648.0|     303.0|       2.1202|          155500.0|       NEAR BAY|    [-122.27,37.85,52...|\n",
            "| 20|  -122.27|   37.85|              40.0|      751.0|         184.0|     409.0|     166.0|       1.3578|          147500.0|       NEAR BAY|    [-122.27,37.85,40...|\n",
            "| 21|  -122.27|   37.85|              42.0|     1639.0|         367.0|     929.0|     366.0|       1.7135|          159800.0|       NEAR BAY|    [-122.27,37.85,42...|\n",
            "| 23|  -122.27|   37.84|              52.0|     1688.0|         337.0|     853.0|     325.0|       2.1806|           99700.0|       NEAR BAY|    [-122.27,37.84,52...|\n",
            "| 25|  -122.28|   37.85|              41.0|      535.0|         123.0|     317.0|     119.0|       2.4038|          107500.0|       NEAR BAY|    [-122.28,37.85,41...|\n",
            "| 27|  -122.28|   37.85|              52.0|     1898.0|         421.0|    1102.0|     397.0|        1.808|          105500.0|       NEAR BAY|    [-122.28,37.85,52...|\n",
            "| 28|  -122.28|   37.84|              50.0|     2082.0|         492.0|    1131.0|     473.0|       1.6424|          108900.0|       NEAR BAY|    [-122.28,37.84,50...|\n",
            "| 29|  -122.28|   37.84|              52.0|      729.0|         160.0|     395.0|     155.0|       1.6875|          132000.0|       NEAR BAY|    [-122.28,37.84,52...|\n",
            "| 30|  -122.28|   37.84|              49.0|     1916.0|         447.0|     863.0|     378.0|       1.9274|          122300.0|       NEAR BAY|    [-122.28,37.84,49...|\n",
            "| 31|  -122.28|   37.84|              52.0|     2153.0|         481.0|    1168.0|     441.0|       1.9615|          115200.0|       NEAR BAY|    [-122.28,37.84,52...|\n",
            "| 33|  -122.27|   37.83|              49.0|     1655.0|         366.0|     754.0|     329.0|        1.375|          104900.0|       NEAR BAY|    [-122.27,37.83,49...|\n",
            "| 34|  -122.27|   37.83|              51.0|     2665.0|         574.0|    1258.0|     536.0|       2.7303|          109700.0|       NEAR BAY|    [-122.27,37.83,51...|\n",
            "+---+---------+--------+------------------+-----------+--------------+----------+----------+-------------+------------------+---------------+------------------------+\n",
            "only showing top 20 rows\n",
            "\n"
          ]
        }
      ]
    },
    {
      "cell_type": "code",
      "source": [
        "train.select(\"numerical_feature_vector\").take(2)"
      ],
      "metadata": {
        "colab": {
          "base_uri": "https://localhost:8080/"
        },
        "id": "Xk_QNw4t7m5B",
        "outputId": "835a567c-e527-46e2-8ae1-9c668ac55877"
      },
      "execution_count": 85,
      "outputs": [
        {
          "output_type": "execute_result",
          "data": {
            "text/plain": [
              "[Row(numerical_feature_vector=DenseVector([-122.23, 37.88, 41.0, 880.0, 129.0, 322.0, 126.0, 8.3252])),\n",
              " Row(numerical_feature_vector=DenseVector([-122.22, 37.86, 21.0, 7099.0, 1106.0, 2401.0, 1138.0, 8.3014]))]"
            ]
          },
          "metadata": {},
          "execution_count": 85
        }
      ]
    },
    {
      "cell_type": "markdown",
      "source": [
        "# Standardizing our data\n",
        "\n"
      ],
      "metadata": {
        "id": "pdaDmGWh7zIm"
      }
    },
    {
      "cell_type": "code",
      "source": [
        "scaler = StandardScaler(\n",
        "    inputCol=\"numerical_feature_vector\",   # ✅ this column exists\n",
        "    outputCol=\"scaled_features\",\n",
        "    withStd=True,\n",
        "    withMean=True\n",
        ")"
      ],
      "metadata": {
        "id": "d3XfG4057tLy"
      },
      "execution_count": 86,
      "outputs": []
    },
    {
      "cell_type": "code",
      "source": [
        "train =train.drop(\"numerical_feature_vector_\")"
      ],
      "metadata": {
        "id": "MspTtI5_9VqW"
      },
      "execution_count": 87,
      "outputs": []
    },
    {
      "cell_type": "code",
      "source": [
        "scaler_model = scaler.fit(train)\n",
        "train = scaler_model.transform(train)\n",
        "test = scaler_model.transform(test)\n"
      ],
      "metadata": {
        "id": "F9iofnFA85Wy"
      },
      "execution_count": 88,
      "outputs": []
    },
    {
      "cell_type": "code",
      "source": [
        "train.show(2)"
      ],
      "metadata": {
        "colab": {
          "base_uri": "https://localhost:8080/"
        },
        "id": "p6P0dHYD9DuI",
        "outputId": "36924395-7d81-45c6-b143-906c927bd50a"
      },
      "execution_count": 89,
      "outputs": [
        {
          "output_type": "stream",
          "name": "stdout",
          "text": [
            "+---+---------+--------+------------------+-----------+--------------+----------+----------+-------------+------------------+---------------+------------------------+--------------------+\n",
            "| id|longitude|latitude|housing_median_age|total_rooms|total_bedrooms|population|households|median_income|median_house_value|ocean_proximity|numerical_feature_vector|     scaled_features|\n",
            "+---+---------+--------+------------------+-----------+--------------+----------+----------+-------------+------------------+---------------+------------------------+--------------------+\n",
            "|  0|  -122.23|   37.88|              41.0|      880.0|         129.0|     322.0|     126.0|       8.3252|          452600.0|       NEAR BAY|    [-122.23,37.88,41...|[-1.3367306965298...|\n",
            "|  1|  -122.22|   37.86|              21.0|     7099.0|        1106.0|    2401.0|    1138.0|       8.3014|          358500.0|       NEAR BAY|    [-122.22,37.86,21...|[-1.3317245824612...|\n",
            "+---+---------+--------+------------------+-----------+--------------+----------+----------+-------------+------------------+---------------+------------------------+--------------------+\n",
            "only showing top 2 rows\n",
            "\n"
          ]
        }
      ]
    },
    {
      "cell_type": "code",
      "source": [
        "train.select(\"scaled_features\").take(2)"
      ],
      "metadata": {
        "colab": {
          "base_uri": "https://localhost:8080/"
        },
        "id": "Soeu4hQKJooA",
        "outputId": "059c6ddd-b252-48ed-f08f-05c2aa09c0fd"
      },
      "execution_count": 90,
      "outputs": [
        {
          "output_type": "execute_result",
          "data": {
            "text/plain": [
              "[Row(scaled_features=DenseVector([-1.3367, 1.058, 0.9811, -0.8161, -0.9827, -0.9985, -0.9867, 2.3587])),\n",
              " Row(scaled_features=DenseVector([-1.3317, 1.0486, -0.6087, 2.0975, 1.3765, 0.8918, 1.704, 2.3461]))]"
            ]
          },
          "metadata": {},
          "execution_count": 90
        }
      ]
    },
    {
      "cell_type": "markdown",
      "source": [
        "# Now for the Categorical varaible - this is ordinal ranking\n",
        "StringIndexer → Label Encoding\n",
        "Converts strings like \"low\", \"medium\", \"high\" → numeric indices 2.0, 0.0, 1.0"
      ],
      "metadata": {
        "id": "XC-CS7mOJxEB"
      }
    },
    {
      "cell_type": "code",
      "source": [
        "index = StringIndexer(inputCol=\"ocean_proximity\",\n",
        "                      outputCol=\"ocean_category_index\")\n",
        "indexer = index.fit(train)\n",
        "train = indexer.transform(train)\n",
        "test = indexer.transform(test)\n"
      ],
      "metadata": {
        "id": "Y2EJUiR_JtKK"
      },
      "execution_count": 91,
      "outputs": []
    },
    {
      "cell_type": "code",
      "source": [
        "train.show(2)"
      ],
      "metadata": {
        "colab": {
          "base_uri": "https://localhost:8080/"
        },
        "id": "wjpMtHNIK0WX",
        "outputId": "28ff89ed-b387-4888-8b85-6f225056a821"
      },
      "execution_count": 92,
      "outputs": [
        {
          "output_type": "stream",
          "name": "stdout",
          "text": [
            "+---+---------+--------+------------------+-----------+--------------+----------+----------+-------------+------------------+---------------+------------------------+--------------------+--------------------+\n",
            "| id|longitude|latitude|housing_median_age|total_rooms|total_bedrooms|population|households|median_income|median_house_value|ocean_proximity|numerical_feature_vector|     scaled_features|ocean_category_index|\n",
            "+---+---------+--------+------------------+-----------+--------------+----------+----------+-------------+------------------+---------------+------------------------+--------------------+--------------------+\n",
            "|  0|  -122.23|   37.88|              41.0|      880.0|         129.0|     322.0|     126.0|       8.3252|          452600.0|       NEAR BAY|    [-122.23,37.88,41...|[-1.3367306965298...|                 3.0|\n",
            "|  1|  -122.22|   37.86|              21.0|     7099.0|        1106.0|    2401.0|    1138.0|       8.3014|          358500.0|       NEAR BAY|    [-122.22,37.86,21...|[-1.3317245824612...|                 3.0|\n",
            "+---+---------+--------+------------------+-----------+--------------+----------+----------+-------------+------------------+---------------+------------------------+--------------------+--------------------+\n",
            "only showing top 2 rows\n",
            "\n"
          ]
        }
      ]
    },
    {
      "cell_type": "code",
      "source": [
        "train.select(\"ocean_category_index\").distinct().show()"
      ],
      "metadata": {
        "colab": {
          "base_uri": "https://localhost:8080/"
        },
        "id": "xfe5MPpCT729",
        "outputId": "42fea8c8-67b7-40ab-9481-3ebe731693a3"
      },
      "execution_count": 93,
      "outputs": [
        {
          "output_type": "stream",
          "name": "stdout",
          "text": [
            "+--------------------+\n",
            "|ocean_category_index|\n",
            "+--------------------+\n",
            "|                 0.0|\n",
            "|                 1.0|\n",
            "|                 4.0|\n",
            "|                 3.0|\n",
            "|                 2.0|\n",
            "+--------------------+\n",
            "\n"
          ]
        }
      ]
    },
    {
      "cell_type": "markdown",
      "source": [
        "# this is one hot encoding\n"
      ],
      "metadata": {
        "id": "syzWW4H8Wt4T"
      }
    },
    {
      "cell_type": "markdown",
      "source": [
        "- OneHotEncoder in PySpark expects numeric indices (like 0, 1, 2)\n",
        "- not strings like \"New York\" or \"Medium\".\n",
        "- ❌ Can't one-hot encode raw strings in PySpark.\n",
        "- Must use StringIndexer first, then OneHotEncoder."
      ],
      "metadata": {
        "id": "_Gj2xsDhYoCL"
      }
    },
    {
      "cell_type": "code",
      "source": [
        "one_hot_encoer = OneHotEncoder(inputCol = \"ocean_category_index\",\n",
        "                                    outputCol = \"ocean_category_one_hot\")\n",
        "one_hot_encoer = one_hot_encoer.fit(train)\n",
        "train =one_hot_encoer.transform(train)\n",
        "test =one_hot_encoer.transform(test)\n"
      ],
      "metadata": {
        "id": "lzfG00oOUPbV"
      },
      "execution_count": 94,
      "outputs": []
    },
    {
      "cell_type": "code",
      "source": [
        "# @title Default title text\n",
        "train.show()"
      ],
      "metadata": {
        "colab": {
          "base_uri": "https://localhost:8080/"
        },
        "id": "bGVWh2VmYSNz",
        "outputId": "75f5225e-6622-4b17-c328-2c83213de1ed"
      },
      "execution_count": 95,
      "outputs": [
        {
          "output_type": "stream",
          "name": "stdout",
          "text": [
            "+---+---------+--------+------------------+-----------+--------------+----------+----------+-------------+------------------+---------------+------------------------+--------------------+--------------------+----------------------+\n",
            "| id|longitude|latitude|housing_median_age|total_rooms|total_bedrooms|population|households|median_income|median_house_value|ocean_proximity|numerical_feature_vector|     scaled_features|ocean_category_index|ocean_category_one_hot|\n",
            "+---+---------+--------+------------------+-----------+--------------+----------+----------+-------------+------------------+---------------+------------------------+--------------------+--------------------+----------------------+\n",
            "|  0|  -122.23|   37.88|              41.0|      880.0|         129.0|     322.0|     126.0|       8.3252|          452600.0|       NEAR BAY|    [-122.23,37.88,41...|[-1.3367306965298...|                 3.0|         (4,[3],[1.0])|\n",
            "|  1|  -122.22|   37.86|              21.0|     7099.0|        1106.0|    2401.0|    1138.0|       8.3014|          358500.0|       NEAR BAY|    [-122.22,37.86,21...|[-1.3317245824612...|                 3.0|         (4,[3],[1.0])|\n",
            "|  4|  -122.25|   37.85|              52.0|     1627.0|         280.0|     565.0|     259.0|       3.8462|          342200.0|       NEAR BAY|    [-122.25,37.85,52...|[-1.3467429246671...|                 3.0|         (4,[3],[1.0])|\n",
            "|  5|  -122.25|   37.85|              52.0|      919.0|         213.0|     413.0|     193.0|       4.0368|          269700.0|       NEAR BAY|    [-122.25,37.85,52...|[-1.3467429246671...|                 3.0|         (4,[3],[1.0])|\n",
            "|  8|  -122.26|   37.84|              42.0|     2555.0|         665.0|    1206.0|     595.0|       2.0804|          226700.0|       NEAR BAY|    [-122.26,37.84,42...|[-1.3517490387357...|                 3.0|         (4,[3],[1.0])|\n",
            "| 10|  -122.26|   37.85|              52.0|     2202.0|         434.0|     910.0|     402.0|       3.2031|          281500.0|       NEAR BAY|    [-122.26,37.85,52...|[-1.3517490387357...|                 3.0|         (4,[3],[1.0])|\n",
            "| 15|  -122.26|   37.85|              50.0|     1120.0|         283.0|     697.0|     264.0|        2.125|          140000.0|       NEAR BAY|    [-122.26,37.85,50...|[-1.3517490387357...|                 3.0|         (4,[3],[1.0])|\n",
            "| 16|  -122.27|   37.85|              52.0|     1966.0|         347.0|     793.0|     331.0|        2.775|          152500.0|       NEAR BAY|    [-122.27,37.85,52...|[-1.3567551528043...|                 3.0|         (4,[3],[1.0])|\n",
            "| 17|  -122.27|   37.85|              52.0|     1228.0|         293.0|     648.0|     303.0|       2.1202|          155500.0|       NEAR BAY|    [-122.27,37.85,52...|[-1.3567551528043...|                 3.0|         (4,[3],[1.0])|\n",
            "| 20|  -122.27|   37.85|              40.0|      751.0|         184.0|     409.0|     166.0|       1.3578|          147500.0|       NEAR BAY|    [-122.27,37.85,40...|[-1.3567551528043...|                 3.0|         (4,[3],[1.0])|\n",
            "| 21|  -122.27|   37.85|              42.0|     1639.0|         367.0|     929.0|     366.0|       1.7135|          159800.0|       NEAR BAY|    [-122.27,37.85,42...|[-1.3567551528043...|                 3.0|         (4,[3],[1.0])|\n",
            "| 23|  -122.27|   37.84|              52.0|     1688.0|         337.0|     853.0|     325.0|       2.1806|           99700.0|       NEAR BAY|    [-122.27,37.84,52...|[-1.3567551528043...|                 3.0|         (4,[3],[1.0])|\n",
            "| 25|  -122.28|   37.85|              41.0|      535.0|         123.0|     317.0|     119.0|       2.4038|          107500.0|       NEAR BAY|    [-122.28,37.85,41...|[-1.3617612668730...|                 3.0|         (4,[3],[1.0])|\n",
            "| 27|  -122.28|   37.85|              52.0|     1898.0|         421.0|    1102.0|     397.0|        1.808|          105500.0|       NEAR BAY|    [-122.28,37.85,52...|[-1.3617612668730...|                 3.0|         (4,[3],[1.0])|\n",
            "| 28|  -122.28|   37.84|              50.0|     2082.0|         492.0|    1131.0|     473.0|       1.6424|          108900.0|       NEAR BAY|    [-122.28,37.84,50...|[-1.3617612668730...|                 3.0|         (4,[3],[1.0])|\n",
            "| 29|  -122.28|   37.84|              52.0|      729.0|         160.0|     395.0|     155.0|       1.6875|          132000.0|       NEAR BAY|    [-122.28,37.84,52...|[-1.3617612668730...|                 3.0|         (4,[3],[1.0])|\n",
            "| 30|  -122.28|   37.84|              49.0|     1916.0|         447.0|     863.0|     378.0|       1.9274|          122300.0|       NEAR BAY|    [-122.28,37.84,49...|[-1.3617612668730...|                 3.0|         (4,[3],[1.0])|\n",
            "| 31|  -122.28|   37.84|              52.0|     2153.0|         481.0|    1168.0|     441.0|       1.9615|          115200.0|       NEAR BAY|    [-122.28,37.84,52...|[-1.3617612668730...|                 3.0|         (4,[3],[1.0])|\n",
            "| 33|  -122.27|   37.83|              49.0|     1655.0|         366.0|     754.0|     329.0|        1.375|          104900.0|       NEAR BAY|    [-122.27,37.83,49...|[-1.3567551528043...|                 3.0|         (4,[3],[1.0])|\n",
            "| 34|  -122.27|   37.83|              51.0|     2665.0|         574.0|    1258.0|     536.0|       2.7303|          109700.0|       NEAR BAY|    [-122.27,37.83,51...|[-1.3567551528043...|                 3.0|         (4,[3],[1.0])|\n",
            "+---+---------+--------+------------------+-----------+--------------+----------+----------+-------------+------------------+---------------+------------------------+--------------------+--------------------+----------------------+\n",
            "only showing top 20 rows\n",
            "\n"
          ]
        }
      ]
    },
    {
      "cell_type": "markdown",
      "source": [
        "# differnece in one hot encoding and ordinal\n",
        "## 🎯 When to Use Ordinal vs One-Hot Encoding\n",
        "# but in spark its always String indexer --> one hot (becasue one hot doesnt recognize strings)\n",
        "\n",
        "- **Ordinal Encoding** ✅  \n",
        "  Use when categories have a **natural order**  \n",
        "  _Examples: Low < Medium < High, Beginner < Expert_\n",
        "\n",
        "- **One-Hot Encoding** ✅  \n",
        "  Use when categories have **no order**  \n",
        "  _Examples: City names, Colors, Product types_\n",
        "\n",
        "❗️**Tip:**  \n",
        "Don’t use ordinal encoding for unordered data — it creates fake rankings!\n"
      ],
      "metadata": {
        "id": "u785J6zNXHFi"
      }
    },
    {
      "cell_type": "code",
      "source": [
        "assembler = VectorAssembler(inputCols=['scaled_features',\n",
        "                                       'ocean_category_one_hot'],\n",
        "                            outputCol='final_feature_vector')\n",
        "\n",
        "train = assembler.transform(train)\n",
        "test = assembler.transform(test)"
      ],
      "metadata": {
        "id": "aZYFcgHqcIxv"
      },
      "execution_count": 96,
      "outputs": []
    },
    {
      "cell_type": "markdown",
      "source": [
        "# applying linear regreassion"
      ],
      "metadata": {
        "id": "O3ocGb7wvBAz"
      }
    },
    {
      "cell_type": "code",
      "source": [
        "from pyspark.ml.regression import LinearRegression\n",
        "\n",
        "lr = LinearRegression(featuresCol='final_feature_vector',\n",
        "                      labelCol='median_house_value')"
      ],
      "metadata": {
        "id": "fFQo_avyc6kk"
      },
      "execution_count": 97,
      "outputs": []
    },
    {
      "cell_type": "code",
      "source": [
        "lr = lr.fit(train)"
      ],
      "metadata": {
        "id": "dlVnWJ4ruUGw"
      },
      "execution_count": 98,
      "outputs": []
    },
    {
      "cell_type": "code",
      "source": [
        "train.show(2)"
      ],
      "metadata": {
        "colab": {
          "base_uri": "https://localhost:8080/"
        },
        "id": "_oVCeM7YuUup",
        "outputId": "575c0c46-ee14-4fe7-ced5-005fd803b0ae"
      },
      "execution_count": 99,
      "outputs": [
        {
          "output_type": "stream",
          "name": "stdout",
          "text": [
            "+---+---------+--------+------------------+-----------+--------------+----------+----------+-------------+------------------+---------------+------------------------+--------------------+--------------------+----------------------+--------------------+\n",
            "| id|longitude|latitude|housing_median_age|total_rooms|total_bedrooms|population|households|median_income|median_house_value|ocean_proximity|numerical_feature_vector|     scaled_features|ocean_category_index|ocean_category_one_hot|final_feature_vector|\n",
            "+---+---------+--------+------------------+-----------+--------------+----------+----------+-------------+------------------+---------------+------------------------+--------------------+--------------------+----------------------+--------------------+\n",
            "|  0|  -122.23|   37.88|              41.0|      880.0|         129.0|     322.0|     126.0|       8.3252|          452600.0|       NEAR BAY|    [-122.23,37.88,41...|[-1.3367306965298...|                 3.0|         (4,[3],[1.0])|[-1.3367306965298...|\n",
            "|  1|  -122.22|   37.86|              21.0|     7099.0|        1106.0|    2401.0|    1138.0|       8.3014|          358500.0|       NEAR BAY|    [-122.22,37.86,21...|[-1.3317245824612...|                 3.0|         (4,[3],[1.0])|[-1.3317245824612...|\n",
            "+---+---------+--------+------------------+-----------+--------------+----------+----------+-------------+------------------+---------------+------------------------+--------------------+--------------------+----------------------+--------------------+\n",
            "only showing top 2 rows\n",
            "\n"
          ]
        }
      ]
    },
    {
      "cell_type": "code",
      "source": [
        "pred_train_df = lr.transform(train)"
      ],
      "metadata": {
        "id": "I4A7VrjPuZoR"
      },
      "execution_count": 100,
      "outputs": []
    },
    {
      "cell_type": "code",
      "source": [
        "pred_train_df.show()"
      ],
      "metadata": {
        "colab": {
          "base_uri": "https://localhost:8080/"
        },
        "id": "R_6xr6tNudaf",
        "outputId": "995b25a7-2809-4cb1-fdc0-e189226775f3"
      },
      "execution_count": 101,
      "outputs": [
        {
          "output_type": "stream",
          "name": "stdout",
          "text": [
            "+---+---------+--------+------------------+-----------+--------------+----------+----------+-------------+------------------+---------------+------------------------+--------------------+--------------------+----------------------+--------------------+------------------+\n",
            "| id|longitude|latitude|housing_median_age|total_rooms|total_bedrooms|population|households|median_income|median_house_value|ocean_proximity|numerical_feature_vector|     scaled_features|ocean_category_index|ocean_category_one_hot|final_feature_vector|        prediction|\n",
            "+---+---------+--------+------------------+-----------+--------------+----------+----------+-------------+------------------+---------------+------------------------+--------------------+--------------------+----------------------+--------------------+------------------+\n",
            "|  0|  -122.23|   37.88|              41.0|      880.0|         129.0|     322.0|     126.0|       8.3252|          452600.0|       NEAR BAY|    [-122.23,37.88,41...|[-1.3367306965298...|                 3.0|         (4,[3],[1.0])|[-1.3367306965298...|  409501.804525014|\n",
            "|  1|  -122.22|   37.86|              21.0|     7099.0|        1106.0|    2401.0|    1138.0|       8.3014|          358500.0|       NEAR BAY|    [-122.22,37.86,21...|[-1.3317245824612...|                 3.0|         (4,[3],[1.0])|[-1.3317245824612...| 424987.8816578764|\n",
            "|  4|  -122.25|   37.85|              52.0|     1627.0|         280.0|     565.0|     259.0|       3.8462|          342200.0|       NEAR BAY|    [-122.25,37.85,52...|[-1.3467429246671...|                 3.0|         (4,[3],[1.0])|[-1.3467429246671...| 257662.3379693828|\n",
            "|  5|  -122.25|   37.85|              52.0|      919.0|         213.0|     413.0|     193.0|       4.0368|          269700.0|       NEAR BAY|    [-122.25,37.85,52...|[-1.3467429246671...|                 3.0|         (4,[3],[1.0])|[-1.3467429246671...| 264436.5146176445|\n",
            "|  8|  -122.26|   37.84|              42.0|     2555.0|         665.0|    1206.0|     595.0|       2.0804|          226700.0|       NEAR BAY|    [-122.26,37.84,42...|[-1.3517490387357...|                 3.0|         (4,[3],[1.0])|[-1.3517490387357...| 203740.9580348545|\n",
            "| 10|  -122.26|   37.85|              52.0|     2202.0|         434.0|     910.0|     402.0|       3.2031|          281500.0|       NEAR BAY|    [-122.26,37.85,52...|[-1.3517490387357...|                 3.0|         (4,[3],[1.0])|[-1.3517490387357...| 238791.8043176143|\n",
            "| 15|  -122.26|   37.85|              50.0|     1120.0|         283.0|     697.0|     264.0|        2.125|          140000.0|       NEAR BAY|    [-122.26,37.85,50...|[-1.3517490387357...|                 3.0|         (4,[3],[1.0])|[-1.3517490387357...|186577.20217280817|\n",
            "| 16|  -122.27|   37.85|              52.0|     1966.0|         347.0|     793.0|     331.0|        2.775|          152500.0|       NEAR BAY|    [-122.27,37.85,52...|[-1.3567551528043...|                 3.0|         (4,[3],[1.0])|[-1.3567551528043...| 216297.9826627662|\n",
            "| 17|  -122.27|   37.85|              52.0|     1228.0|         293.0|     648.0|     303.0|       2.1202|          155500.0|       NEAR BAY|    [-122.27,37.85,52...|[-1.3567551528043...|                 3.0|         (4,[3],[1.0])|[-1.3567551528043...| 194262.3091095798|\n",
            "| 20|  -122.27|   37.85|              40.0|      751.0|         184.0|     409.0|     166.0|       1.3578|          147500.0|       NEAR BAY|    [-122.27,37.85,40...|[-1.3567551528043...|                 3.0|         (4,[3],[1.0])|[-1.3567551528043...| 145217.1048970903|\n",
            "| 21|  -122.27|   37.85|              42.0|     1639.0|         367.0|     929.0|     366.0|       1.7135|          159800.0|       NEAR BAY|    [-122.27,37.85,42...|[-1.3567551528043...|                 3.0|         (4,[3],[1.0])|[-1.3567551528043...| 164616.1742328117|\n",
            "| 23|  -122.27|   37.84|              52.0|     1688.0|         337.0|     853.0|     325.0|       2.1806|           99700.0|       NEAR BAY|    [-122.27,37.84,52...|[-1.3567551528043...|                 3.0|         (4,[3],[1.0])|[-1.3567551528043...|191036.91451692465|\n",
            "| 25|  -122.28|   37.85|              41.0|      535.0|         123.0|     317.0|     119.0|       2.4038|          107500.0|       NEAR BAY|    [-122.28,37.85,41...|[-1.3617612668730...|                 3.0|         (4,[3],[1.0])|[-1.3617612668730...|183497.28355225257|\n",
            "| 27|  -122.28|   37.85|              52.0|     1898.0|         421.0|    1102.0|     397.0|        1.808|          105500.0|       NEAR BAY|    [-122.28,37.85,52...|[-1.3617612668730...|                 3.0|         (4,[3],[1.0])|[-1.3617612668730...|177161.03781064486|\n",
            "| 28|  -122.28|   37.84|              50.0|     2082.0|         492.0|    1131.0|     473.0|       1.6424|          108900.0|       NEAR BAY|    [-122.28,37.84,50...|[-1.3617612668730...|                 3.0|         (4,[3],[1.0])|[-1.3617612668730...|178280.56902834558|\n",
            "| 29|  -122.28|   37.84|              52.0|      729.0|         160.0|     395.0|     155.0|       1.6875|          132000.0|       NEAR BAY|    [-122.28,37.84,52...|[-1.3617612668730...|                 3.0|         (4,[3],[1.0])|[-1.3617612668730...|169234.36221685325|\n",
            "| 30|  -122.28|   37.84|              49.0|     1916.0|         447.0|     863.0|     378.0|       1.9274|          122300.0|       NEAR BAY|    [-122.28,37.84,49...|[-1.3617612668730...|                 3.0|         (4,[3],[1.0])|[-1.3617612668730...| 189490.5553208622|\n",
            "| 31|  -122.28|   37.84|              52.0|     2153.0|         481.0|    1168.0|     441.0|       1.9615|          115200.0|       NEAR BAY|    [-122.28,37.84,52...|[-1.3617612668730...|                 3.0|         (4,[3],[1.0])|[-1.3617612668730...|187432.24323256678|\n",
            "| 33|  -122.27|   37.83|              49.0|     1655.0|         366.0|     754.0|     329.0|        1.375|          104900.0|       NEAR BAY|    [-122.27,37.83,49...|[-1.3567551528043...|                 3.0|         (4,[3],[1.0])|[-1.3567551528043...| 163902.4382417885|\n",
            "| 34|  -122.27|   37.83|              51.0|     2665.0|         574.0|    1258.0|     536.0|       2.7303|          109700.0|       NEAR BAY|    [-122.27,37.83,51...|[-1.3567551528043...|                 3.0|         (4,[3],[1.0])|[-1.3567551528043...|224530.78333189912|\n",
            "+---+---------+--------+------------------+-----------+--------------+----------+----------+-------------+------------------+---------------+------------------------+--------------------+--------------------+----------------------+--------------------+------------------+\n",
            "only showing top 20 rows\n",
            "\n"
          ]
        }
      ]
    },
    {
      "cell_type": "code",
      "source": [
        "pred_train_df.withColumnRenamed('prediction', 'predicted_median_house_value')"
      ],
      "metadata": {
        "colab": {
          "base_uri": "https://localhost:8080/"
        },
        "id": "xwWqIAe-ue9P",
        "outputId": "aa4fe401-cb6a-4d47-a419-5a23c599a18c"
      },
      "execution_count": 102,
      "outputs": [
        {
          "output_type": "execute_result",
          "data": {
            "text/plain": [
              "DataFrame[id: bigint, longitude: double, latitude: double, housing_median_age: double, total_rooms: double, total_bedrooms: double, population: double, households: double, median_income: double, median_house_value: double, ocean_proximity: string, numerical_feature_vector: vector, scaled_features: vector, ocean_category_index: double, ocean_category_one_hot: vector, final_feature_vector: vector, predicted_median_house_value: double]"
            ]
          },
          "metadata": {},
          "execution_count": 102
        }
      ]
    },
    {
      "cell_type": "code",
      "source": [
        "pred_test_df = lr.transform(test).withColumnRenamed('prediction', 'predicted_median_house_value')"
      ],
      "metadata": {
        "id": "sWZEI47_uz_D"
      },
      "execution_count": 103,
      "outputs": []
    },
    {
      "cell_type": "markdown",
      "source": [
        "# using custom row by row logic hence using rdd\n",
        "\n",
        "\n",
        "\n",
        "\n"
      ],
      "metadata": {
        "id": "gkW8Sotb9e1n"
      }
    },
    {
      "cell_type": "code",
      "source": [
        "predictions_and_actuals = pred_test_df[['predicted_median_house_value',\n",
        "                                        'median_house_value']]\n",
        "\n",
        "predictions_and_actuals_rdd = predictions_and_actuals.rdd\n",
        "\n",
        "predictions_and_actuals_rdd.take(2)"
      ],
      "metadata": {
        "colab": {
          "base_uri": "https://localhost:8080/"
        },
        "id": "3ihzu8G79d9z",
        "outputId": "a81d5384-4161-4174-b548-5f160789d7de"
      },
      "execution_count": 105,
      "outputs": [
        {
          "output_type": "execute_result",
          "data": {
            "text/plain": [
              "[Row(predicted_median_house_value=379503.97897680313, median_house_value=352100.0),\n",
              " Row(predicted_median_house_value=322403.2335844542, median_house_value=341300.0)]"
            ]
          },
          "metadata": {},
          "execution_count": 105
        }
      ]
    },
    {
      "cell_type": "markdown",
      "source": [
        "RDDs let you use regular Python functions (map, reduce, etc.) on rows.\n",
        "\n",
        "For example: computing RMSE, MAE, or MSE manually using .map() and .reduce().\n",
        "\n",
        "✅ 2. Access row-level tuples:\n",
        ".rdd turns your DataFrame into something like:a\n",
        "\n",
        "[(250000.0, 230000.0), (180000.0, 185000.0), ...]\n",
        "\n"
      ],
      "metadata": {
        "id": "HQ3vvu_9B1M5"
      }
    },
    {
      "cell_type": "code",
      "source": [
        "predictions_and_actuals_rdd = predictions_and_actuals_rdd.map(tuple)\n",
        "\n",
        "predictions_and_actuals_rdd.take( 2)"
      ],
      "metadata": {
        "colab": {
          "base_uri": "https://localhost:8080/"
        },
        "id": "wSdanV-wu5OK",
        "outputId": "43a18728-d58c-4148-db03-b7d37705b6aa"
      },
      "execution_count": 106,
      "outputs": [
        {
          "output_type": "execute_result",
          "data": {
            "text/plain": [
              "[(379503.97897680313, 352100.0), (322403.2335844542, 341300.0)]"
            ]
          },
          "metadata": {},
          "execution_count": 106
        }
      ]
    },
    {
      "cell_type": "markdown",
      "source": [
        "# You used .rdd because RegressionMetrics only works with RDDs — and specifically tuple-based RDDs — not DataFrames. You converted the DataFrame to an RDD because RegressionMetrics requires an RDD of (prediction, actual) tuples as input. The .map(tuple) step ensures the format matches what the evaluator expects."
      ],
      "metadata": {
        "id": "p9rVGl9pCbJQ"
      }
    },
    {
      "cell_type": "code",
      "source": [
        "from pyspark.mllib.evaluation import RegressionMetrics\n",
        "\n",
        "metrics = RegressionMetrics(predictions_and_actuals_rdd)\n",
        "\n",
        "s = '''\n",
        "Mean Squared Error:      {0}\n",
        "Root Mean Squared Error: {1}\n",
        "Mean Absolute Error:     {2}\n",
        "R**2:                    {3}\n",
        "'''.format(metrics.meanSquaredError,\n",
        "           metrics.rootMeanSquaredError,\n",
        "           metrics.meanAbsoluteError,\n",
        "           metrics.r2\n",
        "           )\n",
        "\n",
        "print(s)"
      ],
      "metadata": {
        "colab": {
          "base_uri": "https://localhost:8080/"
        },
        "id": "PlLxjG6GAS0m",
        "outputId": "c9f77dcc-94ed-4fa2-fb93-e8da40ba26c2"
      },
      "execution_count": 107,
      "outputs": [
        {
          "output_type": "stream",
          "name": "stderr",
          "text": [
            "/usr/local/lib/python3.11/dist-packages/pyspark/sql/context.py:158: FutureWarning: Deprecated in 3.0.0. Use SparkSession.builder.getOrCreate() instead.\n",
            "  warnings.warn(\n"
          ]
        },
        {
          "output_type": "stream",
          "name": "stdout",
          "text": [
            "\n",
            "Mean Squared Error:      4952770209.614867\n",
            "Root Mean Squared Error: 70375.9206661971\n",
            "Mean Absolute Error:     50257.610313496014\n",
            "R**2:                    0.6314275906655809\n",
            "\n"
          ]
        }
      ]
    },
    {
      "cell_type": "markdown",
      "source": [
        "so we are taking rdd so"
      ],
      "metadata": {
        "id": "Xa2WxphZB2kk"
      }
    }
  ]
}